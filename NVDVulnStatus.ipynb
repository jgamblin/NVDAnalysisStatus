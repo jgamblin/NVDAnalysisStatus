{
 "cells": [
  {
   "attachments": {},
   "cell_type": "markdown",
   "id": "serious-pressing",
   "metadata": {},
   "source": [
    "# NVD CVE Analysis Status Stats\n",
    "---"
   ]
  },
  {
   "cell_type": "markdown",
   "id": "e602c457",
   "metadata": {},
   "source": [
    "## Code & Data Setup"
   ]
  },
  {
   "cell_type": "code",
   "execution_count": 1,
   "id": "91b44dc2",
   "metadata": {
    "execution": {
     "iopub.execute_input": "2025-01-16T18:06:02.475607Z",
     "iopub.status.busy": "2025-01-16T18:06:02.475411Z",
     "iopub.status.idle": "2025-01-16T18:06:03.450654Z",
     "shell.execute_reply": "2025-01-16T18:06:03.450011Z"
    },
    "tags": [
     "remove-cell"
    ]
   },
   "outputs": [],
   "source": [
    "from IPython.core.magic import register_cell_magic\n",
    "from IPython.display import Markdown\n",
    "from datetime import date\n",
    "import glob\n",
    "import json\n",
    "import logging\n",
    "import calplot\n",
    "import matplotlib.pyplot as plt\n",
    "import numpy as np\n",
    "import pandas as pd\n",
    "import seaborn as sns \n",
    "import warnings\n",
    "from datetime import datetime\n",
    "\n",
    "logging.getLogger('matplotlib.font_manager').disabled = True\n",
    "warnings.filterwarnings(\"ignore\")\n"
   ]
  },
  {
   "cell_type": "code",
   "execution_count": null,
   "id": "98bafc2f-2e20-4032-a091-ec2dc0ecb7a5",
   "metadata": {
    "execution": {
     "iopub.execute_input": "2025-01-16T18:06:03.453398Z",
     "iopub.status.busy": "2025-01-16T18:06:03.452830Z",
     "iopub.status.idle": "2025-01-16T18:06:27.990583Z",
     "shell.execute_reply": "2025-01-16T18:06:27.989827Z"
    },
    "tags": [
     "remove-cell"
    ]
   },
   "outputs": [],
   "source": [
    "row_accumulator = []\n",
    "for filename in glob.glob('nvd.jsonl'):\n",
    "    with open(filename, 'r', encoding='utf-8') as f:\n",
    "        nvd_data = json.load(f)\n",
    "        for entry in nvd_data:\n",
    "            cve = entry['cve']['id']\n",
    "            try:\n",
    "                assigner = entry['cve']['sourceIdentifier']\n",
    "            except KeyError:\n",
    "                assigner = 'Missing_Data'\n",
    "            try:\n",
    "                published_date = entry['cve']['published']\n",
    "            except KeyError:\n",
    "                published_date = 'Missing_Data'\n",
    "            try:\n",
    "                modified_date = entry['cve']['lastModified']\n",
    "            except KeyError:\n",
    "                modified_date = 'Missing_Data'\n",
    "            try:\n",
    "                vuln_status = entry['cve']['vulnStatus']\n",
    "            except KeyError:\n",
    "                vuln_status = 'Missing_Data'\n",
    "           \n",
    "            new_row = {\n",
    "                'CVE': cve,\n",
    "                'Published': published_date,\n",
    "                'Modified': modified_date,\n",
    "                \"VulnStatus\" : vuln_status\n",
    "            }\n",
    "            row_accumulator.append(new_row)\n",
    "        nvd = pd.DataFrame(row_accumulator)\n",
    "    \n",
    "nvd['Published'] = pd.to_datetime(nvd['Published'])\n",
    "nvd['Modified'] = pd.to_datetime(nvd['Modified'])\n",
    "thisyear = ((nvd['Published'] > '2024-01-01') & (nvd['Published']  < '2026-01-01'))\n",
    "nvd = nvd.loc[thisyear]\n",
    "nvd = nvd.sort_values(by=['Published'])\n",
    "nvd = nvd.reset_index(drop=True)\n",
    "nvdcount = nvd['Published'].count()\n",
    "nvdunique = nvd['Published'].nunique()\n",
    "startdate = date(2024, 1, 1)\n",
    "enddate  = date.today()\n",
    "numberofdays = enddate - startdate \n",
    "per_day = nvdcount/numberofdays.days\n",
    "\n",
    "nvd_vulnstats = nvd['VulnStatus'].value_counts()\n",
    "nvd_vulnstats = nvd_vulnstats.reset_index()\n",
    "nvd215 = nvd.copy()\n",
    "\n",
    "sincenotice = ((nvd['Published'] > '2024-02-15') & (nvd['Published']  < '2026-01-01'))\n",
    "nvd215 = nvd.loc[sincenotice]\n",
    "nvd215_vulnstats = nvd215['VulnStatus'].value_counts()\n",
    "nvd215_vulnstats = nvd215_vulnstats.reset_index()\n",
    "nvd215_awaiting_analysis = nvd215[nvd215['VulnStatus']=='Awaiting Analysis']\n",
    "nvd215_awaiting_analysis = nvd215_awaiting_analysis[['CVE']]\n",
    "\n",
    "nvd_Analyzed = nvd.copy()\n",
    "nvd_Analyzed = nvd_Analyzed[nvd_Analyzed['VulnStatus']=='Analyzed']\n",
    "nvd_Analyzed = nvd_Analyzed.sort_values(by=\"Modified\", ascending=False)\n",
    "pnvd215 = nvd.copy()\n",
    "pnvd215_analyzed = pnvd215[pnvd215['VulnStatus']=='Analyzed']\n",
    "nvd215count = nvd215['Published'].count()\n",
    "startdate = date(2024, 2, 15)\n",
    "enddate  = date.today()\n",
    "numberofdays = enddate - startdate \n",
    "per_day_p = nvd215count/numberofdays.days\n",
    "\n",
    "nvd215Acount = pnvd215_analyzed['Published'].count()\n",
    "startdate = date(2024, 2, 15)\n",
    "enddate  = date.today()\n",
    "numberofdays = enddate - startdate \n",
    "per_day_a = nvd215Acount/numberofdays.days\n",
    "nvd_awaiting_analyzed = nvd[nvd['VulnStatus']=='Awaiting Analysis']\n",
    "days_to_analyze = len(nvd_awaiting_analyzed)/55\n",
    "\n",
    "now = datetime.now()\n",
    "def suffix(day):\n",
    "  suffix = \"\"\n",
    "  if 4 <= day <= 20 or 24 <= day <= 30:\n",
    "    suffix = \"th\"\n",
    "  else:\n",
    "    suffix = [\"st\", \"nd\", \"rd\"][day % 10 - 1]\n",
    "  return suffix\n",
    "report_date = now.strftime(\"%b %-d\" + suffix(now.day))"
   ]
  },
  {
   "cell_type": "markdown",
   "id": "f3c85fc5",
   "metadata": {},
   "source": [
    "## NVD CVE Analysis Stats Status"
   ]
  },
  {
   "cell_type": "code",
   "execution_count": null,
   "id": "fb2368b3",
   "metadata": {
    "execution": {
     "iopub.execute_input": "2025-01-16T18:06:27.993245Z",
     "iopub.status.busy": "2025-01-16T18:06:27.993028Z",
     "iopub.status.idle": "2025-01-16T18:06:28.002470Z",
     "shell.execute_reply": "2025-01-16T18:06:28.001782Z"
    },
    "tags": [
     "remove-input"
    ]
   },
   "outputs": [],
   "source": [
    "print(\"### NVD Analysis Update for\", report_date)\n",
    "print(\"-\", nvd['CVE'].count() , \"CVEs published this year.\")\n",
    "print(\"-\", len(nvd_awaiting_analyzed) , \"CVEs published this year have not been analyzed.\")\n",
    "print(\"- NVD has analyzed\" , nvd215_vulnstats.at[1, \"count\"] , \"CVEs published since February 15th.\")\n",
    "print(\"- For the\" , len(nvd_awaiting_analyzed) , \"unanalyzed CVEs. Analyzing the pre-Feb 15th average, emptying the backlog would take\" , round(days_to_analyze)  , \"days.\")\n",
    "\n"
   ]
  },
  {
   "cell_type": "markdown",
   "id": "94ae1727",
   "metadata": {},
   "source": [
    "### Calendar View"
   ]
  },
  {
   "cell_type": "code",
   "execution_count": null,
   "id": "f8e4ea8b",
   "metadata": {
    "execution": {
     "iopub.execute_input": "2025-01-16T18:06:28.004594Z",
     "iopub.status.busy": "2025-01-16T18:06:28.004231Z",
     "iopub.status.idle": "2025-01-16T18:06:28.744760Z",
     "shell.execute_reply": "2025-01-16T18:06:28.744056Z"
    }
   },
   "outputs": [],
   "source": [
    "nvd_Analyzed = nvd.copy()\n",
    "nvd_Analyzed = nvd_Analyzed[nvd_Analyzed['VulnStatus']=='Analyzed']\n",
    "nvd_Analyzed = nvd_Analyzed.sort_values(by=\"Modified\", ascending=False)\n",
    "dfs = nvd_Analyzed['Modified'].apply(lambda x: pd.to_datetime(x, errors='coerce', format='%Y/%m/%d'))\n",
    "df = dfs.value_counts()\n",
    "df = df.to_frame()\n",
    "df.index = df.index.strftime('%m/%d/%Y')\n",
    "df.index = pd.to_datetime(df.index, format='%m/%d/%Y')\n",
    "average_value = df.T.squeeze().mean()\n",
    "calplot.calplot(df.T.squeeze(), cmap='tab20c', dropzero=True, edgecolor=\"Grey\", textcolor=\"black\", textformat='{:.0f}', textfiller='', suptitle='NVD CVEs Analyzed Per Day', figsize=(25,3));"
   ]
  },
  {
   "cell_type": "code",
   "execution_count": null,
   "id": "9f80993c",
   "metadata": {
    "execution": {
     "iopub.execute_input": "2025-01-16T18:06:28.746929Z",
     "iopub.status.busy": "2025-01-16T18:06:28.746543Z",
     "iopub.status.idle": "2025-01-16T18:06:29.621005Z",
     "shell.execute_reply": "2025-01-16T18:06:29.620268Z"
    }
   },
   "outputs": [],
   "source": [
    "dfs = nvd['Published'].apply(lambda x: pd.to_datetime(x, errors='coerce', format='%Y/%m/%d'))\n",
    "df = dfs.value_counts()\n",
    "df = df.to_frame()\n",
    "df.index = df.index.strftime('%m/%d/%Y')\n",
    "df.index = pd.to_datetime(df.index, format='%m/%d/%Y')\n",
    "average_value = df.T.squeeze().mean()\n",
    "calplot.calplot(df.T.squeeze(), cmap='tab20c', dropzero=True, edgecolor=\"Grey\", textcolor=\"black\", textformat='{:.0f}', textfiller='', suptitle='NVD CVEs Published Per Day', figsize=(25,3));"
   ]
  },
  {
   "cell_type": "markdown",
   "id": "3a04743a",
   "metadata": {},
   "source": [
    "### All 2024 CVE Status Stats"
   ]
  },
  {
   "cell_type": "code",
   "execution_count": null,
   "id": "34ec116e",
   "metadata": {
    "execution": {
     "iopub.execute_input": "2025-01-16T18:06:29.623174Z",
     "iopub.status.busy": "2025-01-16T18:06:29.622939Z",
     "iopub.status.idle": "2025-01-16T18:06:29.630392Z",
     "shell.execute_reply": "2025-01-16T18:06:29.629844Z"
    }
   },
   "outputs": [],
   "source": [
    "nvd_vulnstats "
   ]
  },
  {
   "cell_type": "markdown",
   "id": "add2da4f",
   "metadata": {},
   "source": [
    "### Post Feb 15th CVE Status Stats"
   ]
  },
  {
   "cell_type": "code",
   "execution_count": null,
   "id": "9754ba8e",
   "metadata": {
    "execution": {
     "iopub.execute_input": "2025-01-16T18:06:29.632566Z",
     "iopub.status.busy": "2025-01-16T18:06:29.632186Z",
     "iopub.status.idle": "2025-01-16T18:06:29.637643Z",
     "shell.execute_reply": "2025-01-16T18:06:29.637148Z"
    }
   },
   "outputs": [],
   "source": [
    "nvd215_vulnstats "
   ]
  }
 ],
 "metadata": {
  "kernelspec": {
   "display_name": "Python 3",
   "language": "python",
   "name": "python3"
  },
  "language_info": {
   "codemirror_mode": {
    "name": "ipython",
    "version": 3
   },
   "file_extension": ".py",
   "mimetype": "text/x-python",
   "name": "python",
   "nbconvert_exporter": "python",
   "pygments_lexer": "ipython3",
   "version": "3.12.8"
  }
 },
 "nbformat": 4,
 "nbformat_minor": 5
}
